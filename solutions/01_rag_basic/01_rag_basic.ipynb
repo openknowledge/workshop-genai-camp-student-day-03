{
 "cells": [
  {
   "cell_type": "markdown",
   "metadata": {
    "id": "ePcF01H6rr16"
   },
   "source": [
    "# GenAI-Camp: Day 03\n",
    "## Lesson: Basic RAG\n",
    "\n",
    "This lesson is intended to show you the basics of a Retrieval Augmented Generation (RAG) system.\n",
    "\n",
    "During this lesson you will learn how to ...\n",
    "\n",
    "- implement the different building blocks of RAG\n",
    "- create an ingestion pipeline from the building blocks\n",
    "- create a retrieval pipeline from the building blocks\n",
    "- use a RAG system to generate responses to user inputs"
   ]
  },
  {
   "cell_type": "markdown",
   "metadata": {
    "id": "SxQu4eGGDrJe"
   },
   "source": [
    "### Set up the environment\n",
    "Import the necessary libraries, set constants, and define helper functions."
   ]
  },
  {
   "cell_type": "code",
   "execution_count": 23,
   "metadata": {},
   "outputs": [],
   "source": [
    "import os\n",
    "from google import genai\n",
    "from google.genai import types\n",
    "from pydantic import BaseModel\n",
    "import json"
   ]
  },
  {
   "cell_type": "code",
   "execution_count": 24,
   "metadata": {
    "colab": {
     "base_uri": "https://localhost:8080/"
    },
    "id": "J595XWK4AuQ-",
    "outputId": "a1938bb5-1455-4b38-9046-d34483775689"
   },
   "outputs": [
    {
     "name": "stdout",
     "output_type": "stream",
     "text": [
      "WARNING: Running on LOCAL environment.\n"
     ]
    }
   ],
   "source": [
    "if os.getenv(\"COLAB_RELEASE_TAG\"):\n",
    "   from google.colab import userdata\n",
    "   GOOGLE_API_KEY=userdata.get('GEMINI_API_KEY')\n",
    "   COLAB = True\n",
    "   print(\"Running on COLAB environment.\")\n",
    "else:\n",
    "   from dotenv import load_dotenv, find_dotenv\n",
    "   load_dotenv(find_dotenv())\n",
    "   GOOGLE_API_KEY = os.getenv(\"GEMINI_API_KEY\")\n",
    "   COLAB = False\n",
    "   print(\"WARNING: Running on LOCAL environment.\")\n",
    "client = genai.Client(api_key=GOOGLE_API_KEY)"
   ]
  },
  {
   "cell_type": "code",
   "execution_count": null,
   "metadata": {
    "id": "OFEsl___H2n4"
   },
   "outputs": [],
   "source": [
    "# Install additional libraries\n",
    "if COLAB:\n",
    "  !pip install -qU langchain-text-splitters chromadb"
   ]
  },
  {
   "cell_type": "code",
   "execution_count": null,
   "metadata": {
    "id": "l3UN1LX-IEcp"
   },
   "outputs": [],
   "source": [
    "# Import additional libraries\n",
    "from langchain_text_splitters import RecursiveCharacterTextSplitter\n",
    "from chromadb import EphemeralClient\n",
    "import uuid"
   ]
  },
  {
   "cell_type": "code",
   "execution_count": 27,
   "metadata": {},
   "outputs": [],
   "source": [
    "# Define path of ressources\n",
    "if COLAB:\n",
    "    # Clone the data repository into colab\n",
    "    !git clone https://github.com/openknowledge/workshop-genai-camp-data.git\n",
    "    ROOT_PATH = \"/content/workshop-genai-camp-data/day-03\"\n",
    "else:\n",
    "    ROOT_PATH = \"..\"\n",
    "DATA_PATH = ROOT_PATH + \"/data\"\n",
    "KNOWLEDGEBASE_PATH = ROOT_PATH + \"/knowledgebase\"\n",
    "BOOK_CATALOG_FILE = DATA_PATH + \"/books.json\""
   ]
  },
  {
   "cell_type": "code",
   "execution_count": 28,
   "metadata": {
    "id": "RKG1EPEGdvvC"
   },
   "outputs": [],
   "source": [
    "# Set default values for model, model parameters and prompt\n",
    "DEFAULT_MODEL = \"gemini-1.5-flash\"\n",
    "DEFAULT_CONFIG_TEMPERATURE = 0.9\n",
    "DEFAULT_CONFIG_TOP_K = 1\n",
    "DEFAULT_CONFIG_MAX_OUTPUT_TOKENS = 200\n",
    "DEFAULT_SYSTEM_PROMPT = \"Your are a friendly assistant\"\n",
    "DEFAULT_USER_PROMPT = \" \""
   ]
  },
  {
   "cell_type": "code",
   "execution_count": null,
   "metadata": {
    "id": "CJW72wGgPOxt"
   },
   "outputs": [],
   "source": [
    "# This will be the chromadb collection we use as a knowledge base. We do not need the in-memory EphemeralClient.\n",
    "chromadb_collection =  EphemeralClient().get_or_create_collection(name=\"default\")\n",
    "\n",
    "# Have a look into the knowledgebase\n",
    "def peek_knowledgebase():\n",
    "  \"\"\"Shows the first ten items of the knowledgebase\"\"\"\n",
    "  print(chromadb_collection.peek())"
   ]
  },
  {
   "cell_type": "code",
   "execution_count": null,
   "metadata": {
    "id": "4s8AAOATdqCa"
   },
   "outputs": [],
   "source": [
    "# Function to generate a completion with the Gemini model\n",
    "def generate_gemini_completion(\n",
    "        model_name: str = DEFAULT_MODEL, \n",
    "        temperature:float = DEFAULT_CONFIG_TEMPERATURE,\n",
    "        top_k: int = DEFAULT_CONFIG_TOP_K, \n",
    "        max_output_tokens: int = DEFAULT_CONFIG_MAX_OUTPUT_TOKENS, \n",
    "        system_prompt : str = DEFAULT_SYSTEM_PROMPT, \n",
    "        user_prompt : str = DEFAULT_USER_PROMPT,\n",
    "        verbose: bool = False\n",
    "        ) -> str: \n",
    "    \n",
    "    \"\"\" Calls a gemini model with a given set of parameters and returns the completions \n",
    "    \n",
    "    Parameters\n",
    "    ----------\n",
    "    model_name : str, optional [default: DEFAULT_GEMINI_MODEL]\n",
    "        The name of the model to use for the completion\n",
    "    temperature : float, optional [default: DEFAULT_CONFIG_TEMPERATURE]\n",
    "        The temperature of the model\n",
    "    top_k : int, optional [default: DEFAULT_CONFIG_TOP_K]\n",
    "        The number of most recent matches to return\n",
    "    max_output_tokens : int, optional [default: DEFAULT_CONFIG_MAX_OUTPUT_TOKENS]\n",
    "        The maximum number of output tokens to return\n",
    "    system_prompt : str, optional [default: DEFAULT_SYSTEM_PROMPT]\n",
    "        The system prompt to use for the completion\n",
    "    user_prompt : str, optional [default: DEFAULT_USER_PROMPT]\n",
    "        The user prompt to use for the completion\n",
    "    verbose : bool, optional [default: False]\n",
    "        Whether to print details of the completion process or not. Defaults to False            \n",
    "    Returns \n",
    "    -------\n",
    "    str :\n",
    "        the generated text      \n",
    "    \"\"\"    \n",
    "    if verbose: \n",
    "        # print out summary of input values / parameters\n",
    "        print(f'Generating answer for following config:')\n",
    "        print(f'  - SYSTEM PROMPT used:\\n {system_prompt}')\n",
    "        print(f'  - USER PROMPT used:\\n {user_prompt}')\n",
    "        print(f'  - MODEL used:\\n {model_name} (temperature = {temperature}, top_k = {top_k}, max_output_tokens = {max_output_tokens})')\n",
    "\n",
    "    # create generation config \n",
    "    model_config = types.GenerateContentConfig(\n",
    "        max_output_tokens=max_output_tokens,\n",
    "        temperature=temperature,\n",
    "        top_k=top_k,\n",
    "        system_instruction=system_prompt,\n",
    "    )\n",
    "    \n",
    "    # create generation request\n",
    "    response = client.models.generate_content(\n",
    "        model=model_name,\n",
    "        contents=user_prompt,\n",
    "        config=model_config,\n",
    "    )\n",
    "    \n",
    "    return response.text"
   ]
  },
  {
   "cell_type": "code",
   "execution_count": null,
   "metadata": {},
   "outputs": [],
   "source": [
    "# Define a function to read objects from a JSON file\n",
    "def read_objects_from_json(file_path: str, cls: BaseModel) -> list:\n",
    "    \"\"\"Reads list of objects from a JSON file and returns the list.\"\"\"\n",
    "    with open(file_path, 'r') as file:\n",
    "        data = json.load(file)\n",
    "        objects = [cls(**item) for item in data]\n",
    "    return objects\n",
    "\n",
    "# Define classes used in the ingestion process\n",
    "class Metadata(BaseModel):\n",
    "    \"\"\"Represents the metadata of a document which is stored in the knowledgebase.\"\"\"\n",
    "    url: str\n",
    "    title: str\n",
    "    pub_year: int\n",
    "\n",
    "class Book(BaseModel):\n",
    "    \"\"\"Represents a book with its metadata.\"\"\"\n",
    "    metadata: Metadata\n",
    "    summary: str   "
   ]
  },
  {
   "cell_type": "markdown",
   "metadata": {
    "id": "HqcAgsAzEl2A"
   },
   "source": [
    "### Configure the genAI models"
   ]
  },
  {
   "cell_type": "code",
   "execution_count": 33,
   "metadata": {
    "id": "zWcu0XZgEucE"
   },
   "outputs": [],
   "source": [
    "GENERATION_MODEL = \"gemini-1.5-flash\"\n",
    "EMBEDDING_MODEL = \"models/text-embedding-004\""
   ]
  },
  {
   "cell_type": "markdown",
   "metadata": {
    "id": "EigTzQ_eAWd1"
   },
   "source": [
    "### Configure retriever"
   ]
  },
  {
   "cell_type": "code",
   "execution_count": 34,
   "metadata": {
    "id": "FeNQxSjSALrG"
   },
   "outputs": [],
   "source": [
    "DEFAULT_K = 3\n",
    "DEFAULT_CHUNK_SIZE = 2000\n",
    "DEFAULT_CHUNK_OVERLAP = 100"
   ]
  },
  {
   "cell_type": "markdown",
   "metadata": {
    "id": "Xd-X4JzHCBui"
   },
   "source": [
    "### Define RAG Building Blocks"
   ]
  },
  {
   "cell_type": "code",
   "execution_count": 35,
   "metadata": {
    "id": "BquBXbJxBYWd"
   },
   "outputs": [],
   "source": [
    "# Building Block \"Chunking\": Split the content into smaller chunks\n",
    "def do_chunk(text: str, chunk_size: int, chunk_overlap: int) -> list[str]:\n",
    "  \"\"\" Chunks a given text by a given chunk size and chunk overlap and returns a list of chunks\n",
    "\n",
    "  Parameters\n",
    "  ----------\n",
    "  text : str\n",
    "      The text to be chunked\n",
    "  chunk_size : int, optional [default: DEFAULT_CHUNK_SIZE]\n",
    "        The desired chunk size\n",
    "  chunk_overlap : int, optional [default: DEFAULT_CHUNK_OVERLAP]\n",
    "        The desired chunk overlap\n",
    "  Returns\n",
    "  -------\n",
    "  chunks: [str]\n",
    "      The created chunks\n",
    "  \"\"\"\n",
    "  text_splitter = RecursiveCharacterTextSplitter(\n",
    "      chunk_size=chunk_size,\n",
    "      chunk_overlap=chunk_overlap,\n",
    "      length_function=len,\n",
    "  )\n",
    "  return text_splitter.split_text(text=text)"
   ]
  },
  {
   "cell_type": "code",
   "execution_count": 36,
   "metadata": {
    "id": "1cuFXzCyBxdU"
   },
   "outputs": [],
   "source": [
    "# Building Block \"Embedding\": Create multi dimensional embeddings for a given chunk.\n",
    "def do_embed(chunk: str) -> list[float]:\n",
    "  \"\"\" Embeds a given chunk and returns the embedding\n",
    "\n",
    "  Parameters\n",
    "  ----------\n",
    "  chunk : str\n",
    "      The chunk to be embedded\n",
    "  Returns\n",
    "  -------\n",
    "  embedding: [float]\n",
    "      The created embedding\n",
    "  \"\"\"\n",
    "  content_embeddings = client.models.embed_content(model=EMBEDDING_MODEL, contents=chunk).embeddings\n",
    "  return content_embeddings[0].values\n",
    "\n",
    "def do_batch_embed(chunks: list[str]) -> list[list[float]]:\n",
    "  \"\"\" Embeds a list of chunks and returns the embeddings\n",
    "\n",
    "  Parameters\n",
    "  ----------\n",
    "  chunks : [str]\n",
    "      The chunks to be embedded\n",
    "  Returns\n",
    "  -------\n",
    "  embeddings: [list[float]]\n",
    "      The created embeddings\n",
    "  \"\"\"\n",
    "  content_embeddings = client.models.embed_content(model=EMBEDDING_MODEL, contents=chunks).embeddings\n",
    "  return [content_embedding.values for content_embedding in content_embeddings]"
   ]
  },
  {
   "cell_type": "code",
   "execution_count": 37,
   "metadata": {
    "id": "hpJduX2pSzxi"
   },
   "outputs": [],
   "source": [
    "# Building Block \"Knowledgebase\": Store embeddings and the corresponding content in a vectorstore\n",
    "def persist_embeddings(chunks: list[str], embeddings: list[list[float]], metadatas: list[dict])-> None:\n",
    "  \"\"\" Persists the embeddings and the chunks in the knowledgebase\n",
    "\n",
    "  Parameters\n",
    "  ----------\n",
    "  chunks : [str]\n",
    "      The chunks to be persisted\n",
    "  embeddings: [list[float]]\n",
    "      The corresponding embeddings to be persisted\n",
    "  \"\"\"\n",
    "  ids = [str(uuid.uuid4()) for _ in chunks]\n",
    "  chromadb_collection.add(ids=ids, documents=chunks, embeddings=embeddings, metadatas=metadatas)"
   ]
  },
  {
   "cell_type": "code",
   "execution_count": 38,
   "metadata": {
    "id": "Fyut_CCPC37U"
   },
   "outputs": [],
   "source": [
    "# Building Block \"Augmentation\": Create an updated prompt by merging the original user input with the provided context\n",
    "def augment(user_input: str, context: list[str]) -> str:\n",
    "  \"\"\" Augments a given user input by merging it with the provided context and returns the augmented prompt\n",
    "\n",
    "  Parameters\n",
    "  ----------\n",
    "  user_input : str\n",
    "      The user input to be augmented\n",
    "  context : [str]\n",
    "      The context to be merged with the user input\n",
    "  Returns\n",
    "  -------\n",
    "  augmented_prompt: str\n",
    "      The created augmented prompt\n",
    "  \"\"\"\n",
    "  prepared_context = \"\\n\".join(context)\n",
    "  augmented_prompt = f\"\"\"\n",
    "    Answer the question as detailed as possible from the provided context, make sure to provide all the details, if the answer is not in\n",
    "    provided context just say, \"answer is not available in the context\", don't provide the wrong answer\\n\\n\n",
    "    Context:\\n{prepared_context}?\\n\n",
    "    Question: \\n{user_input}\\n\n",
    "\n",
    "    Answer:\n",
    "  \"\"\"\n",
    "  return augmented_prompt"
   ]
  },
  {
   "cell_type": "code",
   "execution_count": 39,
   "metadata": {
    "id": "BKHUg84XDLRp"
   },
   "outputs": [],
   "source": [
    "# Building Block \"Top-k Fetching\": Get the k semantically closest chunks to the user input from the knowledgebase\n",
    "def do_top_k_fetching(user_input_embedding: list[float], top_k: int) -> list[str]:\n",
    "  \"\"\" Fetches the k semantically closest chunks to the user input from the knowledgebase\n",
    "\n",
    "  Parameters\n",
    "  ----------\n",
    "  user_input_embedding : [float]\n",
    "      The embedding of the user input\n",
    "  top_k : int\n",
    "      The number of semantically closest chunks to be fetched\n",
    "\n",
    "  Returns\n",
    "  -------\n",
    "  context: [str]\n",
    "      The fetched chunks\n",
    "  \"\"\"\n",
    "  # Since we will do the fetching always only for one user_input,\n",
    "  # instead of querying for multiple embeddings simultanously as allowed by the choma API,\n",
    "  # we add the embeddings below to a list and return only the first document (chunk)\n",
    "  return chromadb_collection.query(\n",
    "      query_embeddings=[user_input_embedding],\n",
    "      n_results=top_k,\n",
    "  )[\"documents\"][0]"
   ]
  },
  {
   "cell_type": "code",
   "execution_count": null,
   "metadata": {
    "id": "ARQ8Pxo1d7kq"
   },
   "outputs": [],
   "source": [
    "# Building Block \"Generation\": Use the generation model to create a response\n",
    "def generate_response(prompt: str) -> str:\n",
    "  \"\"\" Generates a response for a given prompt\n",
    "\n",
    "  Parameters\n",
    "  ----------\n",
    "  prompt : str\n",
    "      The prompt to be used for the generation\n",
    "  Returns\n",
    "  -------\n",
    "  response: str\n",
    "      The generated response\n",
    "  \"\"\"\n",
    "  response = generate_gemini_completion(\n",
    "      model_name=GENERATION_MODEL,\n",
    "      user_prompt=prompt,\n",
    "  )\n",
    "  print(response)"
   ]
  },
  {
   "cell_type": "markdown",
   "metadata": {
    "id": "h7A5e_dY-chC"
   },
   "source": [
    "### Create the ingestion pipeline"
   ]
  },
  {
   "cell_type": "code",
   "execution_count": null,
   "metadata": {
    "id": "HalhxNB8-chE"
   },
   "outputs": [],
   "source": [
    "# This function defines the ingestion process for the book catalog\n",
    "def do_ingestion(book_catalog_file: str, chunk_size: int, chunk_overlap: int, batch_size: int = 100) -> None:\n",
    "  \"\"\" Ingests a list of files by a given file name\n",
    "\n",
    "  Parameters\n",
    "  ----------\n",
    "  file_names : [str]\n",
    "      The names of the files to be ingested\n",
    "  \"\"\"\n",
    "  books = read_objects_from_json(file_path=book_catalog_file, cls=Book)\n",
    "\n",
    "  all_chunks = []  # Collect all chunks\n",
    "  all_metadatas = []  # Collect all metadatas\n",
    "\n",
    "  # Iterate over all books\n",
    "  for book in books:\n",
    "    # Load prepared book content\n",
    "    text_content = book.summary\n",
    "\n",
    "    # Chunk the content into smaller chunks\n",
    "    chunks = do_chunk(text_content, chunk_size=chunk_size, chunk_overlap=chunk_overlap)\n",
    "\n",
    "    # Add the chunks and their corresponding metadata to the lists\n",
    "    # Note: We use the book.metadata for each chunk, assuming that the metadata is the same for all chunks of a book\n",
    "    all_chunks.extend(chunks)\n",
    "    all_metadatas.extend([book.metadata] * len(chunks))  # Create a list of metadatas for each chunk\n",
    "\n",
    "  # Process chunks in batches. Otherwise, we might run into quota issues.\n",
    "  for i in range(0, len(all_chunks), batch_size):\n",
    "\n",
    "    # Get the current batch of chunks and their corresponding metadata\n",
    "    chunk_batch = all_chunks[i:i + batch_size]\n",
    "    metadata_batch = all_metadatas[i:i + batch_size]\n",
    "    metadatas = [metadata.model_dump() for metadata in metadata_batch]  # Convert Metadata objects to dictionaries\n",
    "\n",
    "    # Embed the batch of chunks\n",
    "    embeddings = do_batch_embed(chunk_batch)\n",
    "\n",
    "    # Persist the embeddings and the chunks in the knowledgebase\n",
    "    persist_embeddings(chunk_batch, embeddings, metadatas)\n",
    "\n"
   ]
  },
  {
   "cell_type": "markdown",
   "metadata": {
    "id": "8u56sn0894D4"
   },
   "source": [
    "### Perform ingestion"
   ]
  },
  {
   "cell_type": "code",
   "execution_count": 42,
   "metadata": {
    "id": "GC2yAP9QWN2x"
   },
   "outputs": [],
   "source": [
    "# Perform ingestion. Depending on the chunk_size this might take some minutes.\n",
    "do_ingestion(book_catalog_file=BOOK_CATALOG_FILE, chunk_size=DEFAULT_CHUNK_SIZE, chunk_overlap=DEFAULT_CHUNK_OVERLAP)"
   ]
  },
  {
   "cell_type": "code",
   "execution_count": 46,
   "metadata": {
    "colab": {
     "base_uri": "https://localhost:8080/"
    },
    "id": "DaQ8u7tj_UVG",
    "outputId": "931992f3-a85a-49ef-e614-1e82728be750"
   },
   "outputs": [
    {
     "name": "stdout",
     "output_type": "stream",
     "text": [
      "{'ids': ['a01718be-9141-4997-808d-3184c788c353', 'bc47ebb8-015e-4635-8fd9-7da482f5aa61', 'd3df5fe8-f00c-4a03-813e-b72493d5fe5c', 'a7126423-0de2-483e-8158-27c0fea3e4b8', '14ad51b2-7f78-40b0-b35d-49e284d63805', '6fa5a2cf-9b47-4e91-a042-4819027280bf', '01c86af0-666f-48c1-8e38-3561c125837b', '7f975e82-c9fd-4251-8808-47c5e0e339ea', '7744cc86-63c5-4443-a6ff-ef8561d4574c', 'ee599d9c-a77b-4db0-b161-60ab94609836'], 'embeddings': array([[ 0.00450815,  0.0427744 ,  0.02168448, ..., -0.03367527,\n",
      "         0.01990015, -0.08333741],\n",
      "       [-0.02189463,  0.03620462,  0.0077862 , ..., -0.06787197,\n",
      "        -0.01269853, -0.03503731],\n",
      "       [ 0.02164824,  0.03319897,  0.02389836, ..., -0.03954765,\n",
      "         0.02527347, -0.03462225],\n",
      "       ...,\n",
      "       [ 0.04369463,  0.03214902,  0.00271296, ..., -0.02699474,\n",
      "         0.02897209, -0.03008798],\n",
      "       [ 0.074299  ,  0.03978257, -0.01100965, ..., -0.04376825,\n",
      "         0.04558893, -0.02382861],\n",
      "       [ 0.01814854,  0.01455541, -0.00995817, ..., -0.01635353,\n",
      "         0.0159205 , -0.02186136]], shape=(10, 768)), 'documents': ['\"The Declaration of Independence of the United States of America\" by Thomas Jefferson is a historic and foundational document penned in the late 18th century during the American Revolutionary period. This work primarily serves as a formal statement declaring the thirteen American colonies\\' separation from British rule, asserting their right to self-governance and independence. It encapsulates the philosophical underpinnings of democracy, highlighting fundamental human rights and the social contract between the government and the governed.  The text begins with a powerful introduction that outlines the principles of equality and the unalienable rights of individuals to life, liberty, and the pursuit of happiness. It details the various grievances against King George III, illustrating how his actions have eroded the colonists\\' rights and justified their decision to seek independence. By listing these grievances, the document seeks to assert the colonies\\' legitimate claim to self-determination. The Declaration culminates in a solemn proclamation of independence, stating that the colonies are entitled to be free and independent states, free from British authority and capable of forming their own alliances, levying war, and engaging in commerce. The Declaration\\'s closing emphasizes the signers\\' mutual pledge to support this cause, reinforcing the commitment of the colonists to their newly proclaimed liberty.', '\"The United States Bill of Rights\" by United States is a foundational legal document, crafted in the late 18th century during the period of the early republic. It consists of the first ten amendments to the United States Constitution and serves as a crucial protection of individual liberties and rights. The book outlines specific prohibitions on governmental power, addressing the rights of citizens and the parameters within which the government can operate.  The Bill of Rights establishes essential freedoms, including the freedom of speech, the right to bear arms, protections against unreasonable searches, and the right to fair legal proceedings. Each amendment articulates fundamental rights, such as the protection from self-incrimination and guarantees of a speedy trial, which are designed to ensure justice and equity. It emphasizes the significance of civil liberties and sets limits on governmental authority, reinforcing the principle that certain rights are inherent to the people and cannot be infringed upon. Overall, the document is pivotal in defining the relationship between the state and its citizens, serving as a cornerstone of American democracy.', '\"John F. Kennedy\\'s Inaugural Address\" by John F. Kennedy is a historical speech that was delivered during the early 1960s, a significant time during the Cold War. This address marks the transition of power within the U.S. government and encapsulates themes of freedom, responsibility, and unity in the face of global challenges. The likely topic of the book revolves around the ideals of democracy and international cooperation, as well as a call to action for both citizens and nations.  In this powerful address, Kennedy emphasizes the importance of freedom, urging citizens to recognize their role in fostering and protecting liberty. He speaks to the challenges faced by humanity—tyranny, poverty, disease, and war—and calls for a collaborative effort among nations towards a better future. He offers a solemn pledge of support to allies and a commitment to assist oppressed peoples, emphasizing that true progress can be achieved through mutual cooperation and sacrifice. The address culminates in the famous call to action, asking individuals not what their country can do for them, but what they can do for their country, creating a shared sense of purpose among all citizens of the world.', '\"Lincoln\\'s Gettysburg Address\" by Abraham Lincoln is a historical account of one of the most significant speeches in American history, delivered during the mid-19th century. The book focuses on the themes of liberty, equality, and national unity in the context of the Civil War. It reflects on the sacrifices made by soldiers and the overarching ideals of democracy and freedom.  In this powerful address made on November 19, 1863, at the dedication of a military cemetery in Gettysburg, Lincoln commemorates the soldiers who fought and died in the battle. He emphasizes the importance of their sacrifices in the struggle for a nation founded on the principles of equality and liberty. Lincoln calls for a renewed commitment from the living to continue their work, advocating for a government that truly represents the people. The speech concludes with a hopeful vision of a nation reborn, underscoring the idea that the values of democracy must endure for future generations.', '\"The United States Constitution\" by United States is a historically significant document written in the late 18th century. It is not only a foundational legal text but also serves as a framework for America\\'s governance, outlining the structure and powers of government and establishing the rights of citizens. The book centers on key topics such as federalism, the separation of powers, and the checks and balances that are integral to American democracy.  The Constitution is organized into several articles, each detailing specific aspects of government operation. It begins with a preamble that states the purpose of the document— to create a more unified and just society. It addresses the legislative branch in Article I, delineating the powers and responsibilities of Congress, followed by the executive branch in Article II, which defines the presidency\\'s powers. Article III establishes the judiciary, creating a system of federal courts. The Constitution also includes provisions for states\\' relations and describes the process for amendments, ensuring adaptability over time. Ultimately, this document not only serves as a blueprint for political structure but also embodies the principles of democracy and rule of law that continue to govern the United States today.', '\"Give Me Liberty or Give Me Death\" by Patrick Henry is a historic speech delivered in 1775, which serves as an impassioned call to arms during the American Revolution. The text falls within the genre of oratory, representing the fervent political discourse of the time. This pivotal moment reflects the prelude to conflict between the American colonies and British rule, highlighting the serious issues surrounding freedom and tyranny.  In his speech, Henry passionately argues for the necessity of fighting against British oppression, cautioning his fellow countrymen against the false hope of reconciliation. He emphasizes the futility of peaceful negotiations and presents the situation as a stark choice between liberty and slavery. By invoking powerful imagery and appeals to human experience, he urges his audience to recognize the immediacy of the threat and the need for an armed response. The concluding declaration—\"Give me liberty or give me death!\"—serves as a rallying cry for those seeking independence, encapsulating the determination and urgency of the revolutionary spirit.', '\"The Mayflower Compact\" is a foundational document authored in 1620, representing a significant occurrence during the early colonial period. This historical account details the agreement made by the Pilgrims aboard the Mayflower, as they sought to establish a new colony in what is now America. The compact illustrates the desire for self-governance, unity, and the establishment of a civil society based on mutual consent and responsibility among the settlers.  The document begins with a declaration in the name of God and states the intent to form a civil body politic for the better ordering and governance of the new colony. It emphasizes the collective commitment of the signers to create and abide by equitable laws that promote the common good. The signatories, who represent various individuals from different backgrounds, affirm their loyalty to King James and establish a foundation for democratic governance, setting a precedent for future self-rule in America. The Mayflower Compact symbolizes the emergence of a distinct American identity rooted in self-governance and shared values.', '\"Abraham Lincoln\\'s Second Inaugural Address\" by Abraham Lincoln is a historical speech delivered in the mid-19th century, specifically during the tumultuous period of the American Civil War. This book is a transcription of Lincoln\\'s address, which conveys his thoughts and sentiments as he began his second term as President. The primary topic revolves around the enduring conflict of the Civil War, the institution of slavery, and the hope for national healing.  In the address, Lincoln reflects on the Civil War\\'s grim realities and acknowledges the deep-rooted issues that led to the conflict, particularly slavery. He emphasizes that neither side anticipated the scale or duration of the war, and he poignantley grapples with the moral implications of asking divine assistance in a struggle rooted in such an offense. Lincoln articulates a vision of reconciliation and urges the nation to move forward with \"malice toward none\" and \"charity for all,\" underscoring the need to bind up the nation\\'s wounds and strive for lasting peace. Through this powerful speech, he seeks to heal a fractured country, drawing upon a sense of shared humanity and a commitment to justice.', '\"Abraham Lincoln\\'s First Inaugural Address\" by Abraham Lincoln is a historical document delivered as a speech on March 4, 1861. This address takes place during a tumultuous period in American history, specifically the lead-up to the Civil War. In this speech, Lincoln aims to reassure a divided nation, emphasizing the importance of the Union and the continuity of the Constitution while addressing the contentious issues surrounding slavery.  In his address, Lincoln acknowledges the fears of Southern states regarding the protection of their rights and property, particularly concerning slavery. He firmly asserts that he has no intention to interfere with the institution of slavery where it already exists and advocates for the peaceful resolution of conflicts. Lincoln discusses the nature of the Union, arguing that it is perpetual and cannot be dissolved by individual states. By appealing to unity, he calls for patience and a commitment to dialogue while reminding listeners that civil war would only arise from aggression. The address ends on a hopeful note, urging Americans to recognize their shared bonds and to seek reconciliation rather than division, famously invoking \"the better angels of our nature.\"', '\"The King James Version of the Bible\" is a religious text and translation of the Christian scriptures established in the early 17th century. The opening portion introduces key texts within both the Old and New Testaments, beginning with the creation narrative in Genesis. The overall theme revolves around the creation of the world, the establishment of humanity, and the unfolding of religious history through key figures, genealogies, and covenantal relationships with God.  The beginning of this esteemed version starts with the foundational account of creation, where God forms the heavens and the earth, culminating in the creation of humanity in His image. This narrative sets the stage for pivotal stories such as Adam and Eve\\'s life in the Garden of Eden, the story of Cain and Abel, and the rise of Noah in the context of impending judgment and redemption through the Ark. The narrative is steeped in theological significance, exploring themes of obedience, sin, and divine promise, establishing fundamental foundations for both Judaism and Christianity.'], 'uris': None, 'included': ['metadatas', 'documents', 'embeddings'], 'data': None, 'metadatas': [{'pub_year': 1971, 'title': 'The Declaration of Independence of the United States of America', 'url': 'https://www.gutenberg.org/ebooks/1'}, {'pub_year': 1972, 'title': 'The United States Bill of Rights : The Ten Original Amendments to the Constitution of the United States', 'url': 'https://www.gutenberg.org/ebooks/2'}, {'pub_year': 1973, 'title': \"John F. Kennedy's Inaugural Address\", 'url': 'https://www.gutenberg.org/ebooks/3'}, {'url': 'https://www.gutenberg.org/ebooks/4', 'pub_year': 1973, 'title': \"Lincoln's Gettysburg Address : Given November 19, 1863 on the battlefield near Gettysburg, Pennsylvania, USA\"}, {'pub_year': 1975, 'url': 'https://www.gutenberg.org/ebooks/5', 'title': 'The United States Constitution'}, {'url': 'https://www.gutenberg.org/ebooks/6', 'pub_year': 1976, 'title': 'Give Me Liberty or Give Me Death'}, {'pub_year': 1977, 'url': 'https://www.gutenberg.org/ebooks/7', 'title': 'The Mayflower Compact'}, {'pub_year': 1978, 'url': 'https://www.gutenberg.org/ebooks/8', 'title': \"Abraham Lincoln's Second Inaugural Address\"}, {'pub_year': 1979, 'title': \"Abraham Lincoln's First Inaugural Address\", 'url': 'https://www.gutenberg.org/ebooks/9'}, {'url': 'https://www.gutenberg.org/ebooks/10', 'pub_year': 1989, 'title': 'The King James Version of the Bible'}]}\n"
     ]
    }
   ],
   "source": [
    "# Use helper function to peek into knowledgebase\n",
    "peek_knowledgebase()"
   ]
  },
  {
   "cell_type": "markdown",
   "metadata": {
    "id": "bAKlDC8WclSD"
   },
   "source": [
    "### Exercise 01: Create RAG pipeline\n",
    "In this exercise you will create a rag pipeline for retrieving relevant chunks and generating a grounded response"
   ]
  },
  {
   "cell_type": "code",
   "execution_count": null,
   "metadata": {
    "id": "Tehtlj-T_wDc"
   },
   "outputs": [],
   "source": [
    "# TODO: Update the following function to perfom the retrieval pipeline\n",
    "def do_rag(user_input: str, verbose: bool = False) -> None:\n",
    "  \"\"\" Runs the RAG pipeline with a given user input and prints the response\n",
    "\n",
    "  Parameters\n",
    "  ----------\n",
    "  user_input : str\n",
    "      The user input to be used for the RAG pipeline\n",
    "  verbose : bool, optional [default: False]\n",
    "      Whether to print details of the RAG process or not. Defaults to False\n",
    "  \"\"\"\n",
    "  # TODO: Embed the user input\n",
    "  user_input_embedding = do_embed(chunk=user_input)\n",
    "\n",
    "  # TODO: \"R\" like \"Retrieval\": Get the top-k semantically closest chunks to the user input from the knowledgebase\n",
    "  context = do_top_k_fetching(user_input_embedding=user_input_embedding, top_k=DEFAULT_K)\n",
    "  if verbose:\n",
    "    print(f'Retrieved context:\\n {context}')\n",
    "\n",
    "  # TODO: \"A\" like \"Augmented\": Create the augmented prompt\n",
    "  augmented_prompt = augment(user_input=user_input, context=context)\n",
    "  if verbose:\n",
    "    print(f'Augmented prompt:\\n {augmented_prompt}')\n",
    "\n",
    "  # TODO: \"G\" like \"Generation\": Generate a response\n",
    "  generate_response(prompt=augmented_prompt)\n"
   ]
  },
  {
   "cell_type": "code",
   "execution_count": null,
   "metadata": {
    "colab": {
     "base_uri": "https://localhost:8080/",
     "height": 104
    },
    "id": "BeRJbjeZcn-i",
    "outputId": "3162dc03-69a1-4313-b1ff-dbbbef8abce3"
   },
   "outputs": [
    {
     "name": "stdout",
     "output_type": "stream",
     "text": [
      "Yes, that sounds like *Adventures of Huckleberry Finn* by Mark Twain.  The novel follows the adventures of a young boy named Huckleberry Finn as he travels down the Mississippi River.  The provided text describes the book in detail, including Huck's escape from his restrictive life, his journey with Jim (a runaway slave), and his grappling with moral dilemmas related to societal expectations and personal conscience.\n",
      "\n"
     ]
    }
   ],
   "source": [
    "# Define user input. This should be a question regarding one ingested book\n",
    "user_input= \"Hey, I'm looking for a novel about a young boy at the Mississippi river. I think the boy is named Huck?\"\n",
    "\n",
    "# TODO: Perform retrieval by executing the do_rag function\n",
    "do_rag(user_input=user_input, verbose=False)"
   ]
  }
 ],
 "metadata": {
  "colab": {
   "provenance": []
  },
  "kernelspec": {
   "display_name": ".venv",
   "language": "python",
   "name": "python3"
  },
  "language_info": {
   "codemirror_mode": {
    "name": "ipython",
    "version": 3
   },
   "file_extension": ".py",
   "mimetype": "text/x-python",
   "name": "python",
   "nbconvert_exporter": "python",
   "pygments_lexer": "ipython3",
   "version": "3.13.1"
  }
 },
 "nbformat": 4,
 "nbformat_minor": 4
}
